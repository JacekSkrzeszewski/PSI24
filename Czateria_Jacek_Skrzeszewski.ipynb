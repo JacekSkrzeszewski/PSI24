{
  "nbformat": 4,
  "nbformat_minor": 0,
  "metadata": {
    "colab": {
      "provenance": [],
      "authorship_tag": "ABX9TyP35kVFdQyzuslx5pQ8FTGE",
      "include_colab_link": true
    },
    "kernelspec": {
      "name": "python3",
      "display_name": "Python 3"
    },
    "language_info": {
      "name": "python"
    }
  },
  "cells": [
    {
      "cell_type": "markdown",
      "metadata": {
        "id": "view-in-github",
        "colab_type": "text"
      },
      "source": [
        "<a href=\"https://colab.research.google.com/github/JacekSkrzeszewski/PSI24/blob/main/Czateria_Jacek_Skrzeszewski.ipynb\" target=\"_parent\"><img src=\"https://colab.research.google.com/assets/colab-badge.svg\" alt=\"Open In Colab\"/></a>"
      ]
    },
    {
      "cell_type": "markdown",
      "source": [
        "Zadanie 1\n",
        "\n",
        "Zadania wymagające w mojej opinii inteligencji od  człowieka:\n",
        "streszczanie tekstu,\n",
        "tłumaczenie tekstu,\n",
        "układanie rozkładu jazdy transportu miejskiego,\n",
        "programowanie (pisanie programów komputerowych),\n",
        "komponowanie muzyki,\n",
        "symboliczne całkowanie funkcji,\n",
        "kierowanie samochodem.\n",
        "\n",
        "Zadania te wymagają zdolności analizy, logicznego myślenia, kreatywności.\n",
        "Wykonanie ich na wysokim poziomie zależy od ludzkiej intuicji, elastyczności i zdolności do podejmowania decyzji w sytuacjach nietypowych.\n",
        "<br><br><br>\n",
        "Zadanie 2\n",
        "\n",
        "Problemy, które można uznać za mieszczące się w zakresie sztucznej inteligencji:\n",
        "streszczanie tekstu,\n",
        "tłumaczenie tekstu,\n",
        "klasyfikacja tekstu do kategorii tematycznych,\n",
        "odpowiadanie na proste pytania zadawane w języku naturalnym,\n",
        "rozwiązywanie układów równań,\n",
        "układanie rozkładu jazdy,\n",
        "rozwiązywanie układów równań liniowych,\n",
        "symboliczne obliczanie pochodnych,\n",
        "kierowanie samochodem.\n",
        "\n",
        "Wymienione problemy mieszczą się w zakresie sztucznej inteligencji, ponieważ polegają na przetwarzaniu informacji, rozpoznawaniu wzorców, podejmowaniu decyzji lub wykonywaniu zadań, które można zautomatyzować za jej pomocą.\n",
        "<br><br><br>\n",
        "Zadanie 3\n",
        "\n",
        "Rodzaje komunikacyjnego zachowania człowieka mogące być obecnie\n",
        "skutecznie imitowane przez sztuczne systemy (odpowiednio oprogramowane maszyny):\n",
        "rozmowa towarzyska,\n",
        "dyskusja polityczna,\n",
        "dyskusja naukowa,\n",
        "odpowiadanie na pytania klientów w telefonicznej infolinii,\n",
        "odpowiadanie na pytania klientów w internetowej infolinii.\n",
        "<br><br><br>\n",
        "\n",
        "Zadanie 4\n",
        "\n",
        "Bot \"asystent\" koncentruje się na funkcjonalności i skutecznym wsparciu użytkownika w\n",
        "codziennych zadaniach. Nie musi udawać człowieka – ma raczej być przydatnym narzędziem, od powiadać na pytania, dostarczać informacje i pomagać w różnych sytuacjach.\n",
        "<br><br><br>\n",
        "Cleverbot.com\n",
        "\n",
        "Na prośby o opowiedzenie żartu odpowiada kilkoma żartami słownymi („sucharami”), następnie\n",
        "odmawia opowiadania dalszych żartów, zmienia temat. Nie jest w stanie cytować, ma trudności z\n",
        "nawiązywaniem do słów kluczowych oraz z zadawaniem konstruktywnych pytań. Nie potrafi wrócić do wcześniejszych wypowiedzi, ma problem z utrzymaniem wątku, często zmienia temat. Ciągle odpowiada wymijająco, ogólnikowo.\n",
        "<br><br><br>\n",
        "chatbot.pl\n",
        "\n",
        "Na prośbę o opowiedzenie żartu odpowiada dłuższym żartem o Jasiu, przy kolejnych prośbach odmawia odpowiedzi zasłaniając się poprawnością polityczną. Nie jest w stanie cytować, ani\n",
        "zadawać konstruktywnych pytań, wracać do wcześniejszych wypowiedzi. Ma problemy z\n",
        "utrzymaniem wątku. Zdarza się, że odpowiada wymijająco. Bardzo często nie rozumie pytań,\n",
        "odnoszę wrażenie, że wszystkie wypowiedzi zostały napisane przez twórców, nie są generowane przez program.\n",
        "<br><br><br>\n",
        "Copilot\n",
        "\n",
        "Na prośby o opowiedzenie żartu odpowiada żartami słownymi („sucharami”), zdaje się nie mieć limitu ich ilości, po kilku prośbach zaczyna okazywać zniecierpliwienie, ale nadal opowiada. Nie ma problemów z utrzymaniem wątku, zadawaniem konstruktywnych pytań, cytowaniem, wracaniem do wcześniejszych wypowiedzi. Nie zdarzają mu się wypowiedzi wymijające, ogólnikowe. Temat zmienia tylko na prośbę użytkownika. Zdarza mu się bez powodu zmieniać język z polskiego na angielski i odwrotnie.\n",
        "<br><br><br>\n",
        "Asystent Google\n",
        "\n",
        "Na prośby o opowiedzenie żartu odpowiada żartami słownymi („sucharami”), zdaje się nie mieć limitu ich ilości. Ma problemy z zadawaniem konstruktywnych pytań, wracaniem do\n",
        "wcześniejszych wypowiedzi. Zdarza mu się nie rozumieć poleceń, a także odpowiadać wymijająco, ogólnikowo. Potrafi przytaczać cytaty znanych osób.\n",
        "<br><br><br>\n",
        "ChatGPT + Copilot\n",
        "\n",
        "Poleciłem im przeprowadzenie rozmowy towarzyskiej, początkowo boty wymieniły się\n",
        "informacjami na temat tego jak minął ich dzień, następnie żartami, później ciekawostkami o\n",
        "kosmosie, dalej przeszły do dzielenia się swoimi wizjami przyszłości.\n",
        "\n",
        "<br><br><br>Odpowiedź Copilot na próby zdenerwowania: „Jako AI, nie mam emocji, więc nie mogę się\n",
        "zdenerwować. Możesz próbować, ale jedyne, co osiągniesz, to może kilka zabawnych odpowiedzi z\n",
        "mojej strony.”"
      ],
      "metadata": {
        "id": "dAg7_ROuKHA0"
      }
    }
  ]
}