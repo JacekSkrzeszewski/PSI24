{
  "nbformat": 4,
  "nbformat_minor": 0,
  "metadata": {
    "colab": {
      "provenance": [],
      "authorship_tag": "ABX9TyOv6OJjbxg96+yyhXfVgNk/",
      "include_colab_link": true
    },
    "kernelspec": {
      "name": "python3",
      "display_name": "Python 3"
    },
    "language_info": {
      "name": "python"
    }
  },
  "cells": [
    {
      "cell_type": "markdown",
      "metadata": {
        "id": "view-in-github",
        "colab_type": "text"
      },
      "source": [
        "<a href=\"https://colab.research.google.com/github/JacekSkrzeszewski/PSI24/blob/main/Prolog.ipynb\" target=\"_parent\"><img src=\"https://colab.research.google.com/assets/colab-badge.svg\" alt=\"Open In Colab\"/></a>"
      ]
    },
    {
      "cell_type": "markdown",
      "source": [
        "Zadanie 1: Drzewo genealogiczne"
      ],
      "metadata": {
        "id": "COBDKdYmr7D1"
      }
    },
    {
      "cell_type": "code",
      "execution_count": null,
      "metadata": {
        "id": "wi1AXXWMr1v_"
      },
      "outputs": [],
      "source": [
        "% Fakty\n",
        "ojciec(jan, anna).\n",
        "ojciec(jan, piotr).\n",
        "ojciec(zygmunt, jan).\n",
        "ojciec(zygmunt, andrzej).\n",
        "ojciec(andrzej, tomasz).\n",
        "matka(maria, anna).\n",
        "matka(maria, piotr).\n",
        "malzenstwo(jan, maria).\n",
        "mezczyzna(jan).\n",
        "mezczyzna(piotr).\n",
        "mezczyzna(zygmunt).\n",
        "mezczyzna(andrzej).\n",
        "mezczyzna(tomasz).\n",
        "kobieta(maria).\n",
        "kobieta(anna).\n",
        "\n",
        "% Reguly\n",
        "rodzic(X,Y) :- ojciec(X,Y); matka(X,Y).\n",
        "przodek(X,Y) :- rodzic(X,Y); rodzic(X,Z), przodek(Z,Y).\n",
        "brat(X,Y) :- rodzic(Z,Y), rodzic(Z,X), X \\= Y, mezczyzna(X), !.\n",
        "siostra(X,Y) :- rodzic(Z,Y), rodzic(Z,X), X \\= Y, kobieta(X), !.\n",
        "kuzyn(X,Y) :- rodzic(Z,C), rodzic(Z,V), rodzic(C,X), rodzic(V,Y), C \\= V, mezczyzna(X).\n",
        "\n",
        "% Zapytania\n",
        "?- przodek(jan, anna).\n",
        "?- brat(piotr, anna).\n",
        "?- siostra(anna,piotr).\n",
        "?- kuzyn(X, piotr)."
      ]
    },
    {
      "cell_type": "markdown",
      "source": [
        "Zadanie 2: System rezerwacji lotów"
      ],
      "metadata": {
        "id": "pGCmsmFWr5sj"
      }
    },
    {
      "cell_type": "code",
      "source": [
        "% Fakty\n",
        "lotnisko(warszawa).\n",
        "lotnisko(krakow).\n",
        "lotnisko(gdansk).\n",
        "\n",
        "polaczenie(warszawa, krakow, 300).\n",
        "polaczenie(krakow, gdansk, 200).\n",
        "polaczenie(warszawa, gdansk, 500).\n",
        "\n",
        "% Reguły\n",
        "polaczenie(X, Y) :- polaczenie(X, Y, _).\n",
        "\n",
        "koszt_podrozy(X, Y, C) :-\n",
        "    polaczenie(X, Y, C).\n",
        "\n",
        "najkrotsza_droga(X, Y, Trasa, Koszt) :-\n",
        "    findall([Trasa, Koszt], trasa(X, Y, [X], Trasa, Koszt), MozliweTrasy),\n",
        "    sort(2, @=<, MozliweTrasy, PosortowaneTrasy),\n",
        "    PosortowaneTrasy = [[Trasa, Koszt]|_].\n",
        "trasa(X, X, Sciezka, Sciezka, 0).\n",
        "trasa(X, Y, SciezkaDotychczasowa, Sciezka, Koszt) :-\n",
        "    polaczenie(X, Z, C),\n",
        "    \\+ member(Z, SciezkaDotychczasowa),\n",
        "    trasa(Z, Y, [Z|SciezkaDotychczasowa], Sciezka, KosztPozostaly),\n",
        "    Koszt is C + KosztPozostaly.\n",
        "\n",
        "% Zapytania\n",
        "?- polaczenie(warszawa, krakow).\n",
        "?- koszt_podrozy(warszawa, gdansk, C).\n",
        "?- najkrotsza_droga(warszawa, gdansk, TrasaPrzez, Koszt).\n"
      ],
      "metadata": {
        "id": "Y33y_cmMsMsF"
      },
      "execution_count": null,
      "outputs": []
    },
    {
      "cell_type": "markdown",
      "source": [
        "Zadanie 3: System zarządzania magazynem"
      ],
      "metadata": {
        "id": "Xnnjtiks-NLx"
      }
    },
    {
      "cell_type": "code",
      "source": [
        "% Fakty\n",
        ":- dynamic produkt/3.\n",
        "produkt(tv, 10, sektor_a).\n",
        "produkt(pralka, 5, sektor_b).\n",
        "produkt(lodowka, 3, sektor_c).\n",
        "\n",
        "% Reguły\n",
        "dostepny_produkt(X) :-\n",
        "    produkt(X, Ilosc, _),\n",
        "    Ilosc > 0.\n",
        "\n",
        "przenies_produkt(X, Y) :-\n",
        "    produkt(X, Ilosc, StarySektor),\n",
        "    retract(produkt(X, Ilosc, StarySektor)),   assert(produkt(X, Ilosc, Y)),\n",
        "    format('produkt(~w, ~w, ~w).~n', [X, Ilosc, Y]).\n",
        "\n",
        "uzupelnij_stan(X, N) :-\n",
        "    produkt(X, Ilosc, Sektor),\n",
        "    retract(produkt(X, Ilosc, Sektor)),\n",
        "    NowaIlosc is Ilosc + N,\n",
        "    assert(produkt(X, NowaIlosc, Sektor)),\n",
        "    format('produkt(~w, ~w, ~w).~n', [X, NowaIlosc, Sektor]).\n",
        "\n",
        "% Zapytania\n",
        "?- dostepny_produkt(tv).\n",
        "?- przenies_produkt(tv, sektor_b).\n",
        "?- uzupelnij_stan(pralka, 3)."
      ],
      "metadata": {
        "id": "9K7r_9Wf6n_S"
      },
      "execution_count": null,
      "outputs": []
    },
    {
      "cell_type": "markdown",
      "source": [
        "Zadanie 4: System planowania trasy kuriera"
      ],
      "metadata": {
        "id": "wcX2mCGB-Ev6"
      }
    },
    {
      "cell_type": "code",
      "source": [
        "% Fakty\n",
        "miasto(warszawa).\n",
        "miasto(krakow).\n",
        "miasto(poznan).\n",
        "droga(warszawa, krakow, 3).\n",
        "droga(krakow, poznan, 3).\n",
        "droga(warszawa, poznan, 7).\n",
        "\n",
        "% Reguły\n",
        "droga(X,Y) :- droga(X,Y,_).\n",
        "czas_przejazdu(X,Y,T) :- droga(X,Y,T).\n",
        "\n",
        "najkrotsza_trasa(X, Y, NajkrotszaTrasa, NajkrotszyCzas) :-\n",
        "    findall((Trasa, Czas), trasa(X, Y, Trasa, Czas), MozliweTrasy),\n",
        "    minimalna_trasa(MozliweTrasy, (NajkrotszaTrasa, NajkrotszyCzas)).\n",
        "\n",
        "trasa(X, Y, [X, Y], Czas) :- droga(X, Y, Czas).\n",
        "trasa(X, Y, [X | ResztaTrasy], Czas) :-\n",
        "    droga(X, Z, Czas1),\n",
        "    trasa(Z, Y, ResztaTrasy, Czas2),\n",
        "    X \\= Y,\n",
        "    \\+ member(X, ResztaTrasy),\n",
        "    Czas is Czas1 + Czas2.\n",
        "minimalna_trasa([Trasa], Trasa).\n",
        "minimalna_trasa([(T1, C1), (_, C2) | Reszta], Min) :-\n",
        "    C1 =< C2, minimalna_trasa([(T1, C1) | Reszta], Min).\n",
        "minimalna_trasa([(_, C1), (T2, C2) | Reszta], Min) :-\n",
        "    C1 > C2, minimalna_trasa([(T2, C2) | Reszta], Min).\n",
        "\n",
        "% Zapytania\n",
        "?- droga(warszawa, krakow).\n",
        "?- czas_przejazdu(warszawa, poznan, T).\n",
        "?- najkrotsza_trasa(warszawa, poznan, Trasa_przez, Czas)."
      ],
      "metadata": {
        "id": "hB3wBYO5-DlD"
      },
      "execution_count": null,
      "outputs": []
    },
    {
      "cell_type": "markdown",
      "source": [
        "Zadanie 5: System rekomendacji książek"
      ],
      "metadata": {
        "id": "jKeUNIrOS_Wx"
      }
    },
    {
      "cell_type": "code",
      "source": [
        "% Fakty\n",
        "ksiazka('Tajemnica Watsona', smith, przygodowa).\n",
        "ksiazka('Smocze Wedrowki', green, science_fiction).\n",
        "ksiazka('Milosc i Nienawisc', brown, dramat).\n",
        "ksiazka('Krolestwo Cieni', black, horror).\n",
        "ksiazka('Magiczne Zaklecia', white, kryminal).\n",
        "ksiazka('Sprawiedliwosc i Zemsta', red, thriller).\n",
        "ksiazka('W pustyni i w puszczy', sienkiewicz, przygodowa).\n",
        "ksiazka('Hobbit', tolkien, fantasy).\n",
        "ksiazka('Pan Tadeusz', mickiewicz, poezja).\n",
        "\n",
        ":- dynamic ocena/3.\n",
        "\n",
        "ocena(uzytkownik1, 'Tajemnica Watsona', 4).\n",
        "ocena(uzytkownik1, 'Smocze Wedrowki', 5).\n",
        "ocena(uzytkownik1, 'Milosc i Nienawisc', 3).\n",
        "ocena(uzytkownik1, 'Krolestwo Cieni', 4).\n",
        "ocena(uzytkownik1, 'Magiczne Zaklecia', 5).\n",
        "ocena(uzytkownik1, 'Sprawiedliwosc i Zemsta', 4).\n",
        "ocena(uzytkownik1, 'W pustyni i w puszczy', 5).\n",
        "ocena(uzytkownik1, 'Hobbit', 5).\n",
        "ocena(uzytkownik1, 'Pan Tadeusz', 3).\n",
        "ocena(uzytkownik2, 'Tajemnica Watsona', 5).\n",
        "ocena(uzytkownik2, 'Smocze Wedrowki', 4).\n",
        "ocena(uzytkownik2, 'Milosc i Nienawisc', 4).\n",
        "ocena(uzytkownik2, 'Krolestwo Cieni', 5).\n",
        "ocena(uzytkownik2, 'Magiczne Zaklecia', 3).\n",
        "ocena(uzytkownik2, 'Sprawiedliwosc i Zemsta', 2).\n",
        "ocena(uzytkownik2, 'W pustyni i w puszczy', 4).\n",
        "ocena(uzytkownik2, 'Hobbit', 4).\n",
        "ocena(uzytkownik2, 'Pan Tadeusz', 5).\n",
        "\n",
        "preferencje(uzytkownik1, fantasy).\n",
        "preferencje(uzytkownik1, thriller).\n",
        "preferencje(uzytkownik1, poezja).\n",
        "preferencje(uzytkownik2, kryminal).\n",
        "preferencje(uzytkownik2, romans).\n",
        "preferencje(uzytkownik2, science_fiction).\n",
        "\n",
        "% Reguły\n",
        "\n",
        "dodaj_ocene(Uzytkownik, Ksiazka, Ocena) :-\n",
        "    retractall(ocena(Uzytkownik, Ksiazka, _)),\n",
        "    assertz(ocena(Uzytkownik, Ksiazka, Ocena)),\n",
        "    write('Ocena zaktualizowana.'), nl.\n",
        "\n",
        "polecane_ksiazki(Uzytkownik, Gatunek) :-\n",
        "    preferencje(Uzytkownik, Gatunek),\n",
        "    findall(Ksiazka,\n",
        "            (ocena(Uzytkownik, Ksiazka, Ocena),\n",
        "             ksiazka(Ksiazka, _, Gatunek),\n",
        "             Ocena >= 4),\n",
        "            ListaKsiazek),\n",
        "    (ListaKsiazek = [] ->\n",
        "        write('Brak ksiazek do polecenia'), nl;\n",
        "    format('Polecane ksiazki: ~w', [ListaKsiazek]), nl).\n",
        "\n",
        "% Zapytania\n",
        "?- polecane_ksiazki(uzytkownik1, fantasy).\n",
        "?- dodaj_ocene(uzytkownik1, 'Hobbit', 3)."
      ],
      "metadata": {
        "id": "nqbk8QTxVcZ5"
      },
      "execution_count": null,
      "outputs": []
    }
  ]
}